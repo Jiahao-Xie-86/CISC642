{
  "nbformat": 4,
  "nbformat_minor": 0,
  "metadata": {
    "colab": {
      "provenance": [],
      "gpuType": "T4"
    },
    "kernelspec": {
      "name": "python3",
      "display_name": "Python 3"
    },
    "language_info": {
      "name": "python"
    },
    "accelerator": "GPU"
  },
  "cells": [
    {
      "cell_type": "code",
      "execution_count": 1,
      "metadata": {
        "id": "6fn7dbeFuhGN"
      },
      "outputs": [],
      "source": [
        "import torch\n",
        "import torch.nn as nn\n",
        "import torch.optim as optim\n",
        "from torch.optim import lr_scheduler\n",
        "import numpy as np\n",
        "import torchvision\n",
        "from torchvision import datasets, models, transforms\n",
        "import time\n",
        "import os\n",
        "import copy\n",
        "import matplotlib.pyplot as plt"
      ]
    },
    {
      "cell_type": "code",
      "source": [
        "# Set device\n",
        "device = torch.device('cuda' if torch.cuda.is_available() else 'cpu')\n",
        "print(f\"Using device: {device}\")"
      ],
      "metadata": {
        "colab": {
          "base_uri": "https://localhost:8080/"
        },
        "id": "Lb-9nq1fwaaw",
        "outputId": "d883c37f-fe95-477a-c64a-4a7449e176ac"
      },
      "execution_count": 2,
      "outputs": [
        {
          "output_type": "stream",
          "name": "stdout",
          "text": [
            "Using device: cuda\n"
          ]
        }
      ]
    },
    {
      "cell_type": "code",
      "source": [
        "# Data transformations\n",
        "data_transforms = transforms.Compose([\n",
        "    transforms.Resize((224, 224)),\n",
        "    transforms.RandomHorizontalFlip(),\n",
        "    transforms.ToTensor(),\n",
        "    transforms.Normalize((0.485, 0.456, 0.406), (0.229, 0.224, 0.225))\n",
        "])\n",
        "\n",
        "# Set dataset root directory\n",
        "dataset_root = './data'\n",
        "\n",
        "# Create dataset objects\n",
        "trainset = datasets.CIFAR100(dataset_root, train=True, transform=data_transforms, download=True)\n",
        "testset = datasets.CIFAR100(dataset_root, train=False, transform=data_transforms, download=True)\n",
        "\n",
        "# Create data loaders\n",
        "trainloader = torch.utils.data.DataLoader(trainset, batch_size=32, shuffle=True, num_workers=2)\n",
        "testloader = torch.utils.data.DataLoader(testset, batch_size=32, shuffle=False, num_workers=2)"
      ],
      "metadata": {
        "colab": {
          "base_uri": "https://localhost:8080/"
        },
        "id": "fsql0TDLwilM",
        "outputId": "9b9d1013-8870-459f-c194-db9529e39b22"
      },
      "execution_count": 3,
      "outputs": [
        {
          "output_type": "stream",
          "name": "stderr",
          "text": [
            "100%|██████████| 169M/169M [00:03<00:00, 46.2MB/s]\n"
          ]
        }
      ]
    },
    {
      "cell_type": "code",
      "source": [
        "# Set number of classes\n",
        "num_cls = 100\n",
        "\n",
        "# Load VGG16 with pretrained weights\n",
        "model = models.vgg16(pretrained=True)\n",
        "\n",
        "# Extract the number of input features for the last fully connected layer\n",
        "num_in_ftrs = model.classifier[6].in_features\n",
        "\n",
        "# Replace the last fully connected layer\n",
        "model.classifier[6] = nn.Linear(num_in_ftrs, num_cls)\n",
        "\n",
        "# Freeze all layers except the last one\n",
        "for param in model.parameters():\n",
        "    param.requires_grad = False\n",
        "\n",
        "for param in model.classifier[6].parameters():\n",
        "    param.requires_grad = True\n",
        "\n",
        "# Move model to device\n",
        "model = model.to(device)\n",
        "\n",
        "# Define loss function\n",
        "criterion = nn.CrossEntropyLoss()\n",
        "\n",
        "# Create optimizer\n",
        "optimizer = optim.SGD(model.classifier[6].parameters(), lr=0.001, momentum=0.9)\n",
        "\n",
        "# Learning rate scheduler\n",
        "scheduler = lr_scheduler.StepLR(optimizer, step_size=7, gamma=0.1)\n",
        "\n",
        "# Number of epochs\n",
        "num_epochs = 10"
      ],
      "metadata": {
        "colab": {
          "base_uri": "https://localhost:8080/"
        },
        "id": "RVYErlt0wm2F",
        "outputId": "d767acc1-1d10-449b-8145-28e67b40c577"
      },
      "execution_count": 4,
      "outputs": [
        {
          "output_type": "stream",
          "name": "stderr",
          "text": [
            "/usr/local/lib/python3.11/dist-packages/torchvision/models/_utils.py:208: UserWarning: The parameter 'pretrained' is deprecated since 0.13 and may be removed in the future, please use 'weights' instead.\n",
            "  warnings.warn(\n",
            "/usr/local/lib/python3.11/dist-packages/torchvision/models/_utils.py:223: UserWarning: Arguments other than a weight enum or `None` for 'weights' are deprecated since 0.13 and may be removed in the future. The current behavior is equivalent to passing `weights=VGG16_Weights.IMAGENET1K_V1`. You can also use `weights=VGG16_Weights.DEFAULT` to get the most up-to-date weights.\n",
            "  warnings.warn(msg)\n",
            "Downloading: \"https://download.pytorch.org/models/vgg16-397923af.pth\" to /root/.cache/torch/hub/checkpoints/vgg16-397923af.pth\n",
            "100%|██████████| 528M/528M [00:03<00:00, 146MB/s]\n"
          ]
        }
      ]
    },
    {
      "cell_type": "code",
      "source": [
        "# To track the best model\n",
        "best_model_wts = copy.deepcopy(model.state_dict())\n",
        "best_acc = 0.0\n",
        "\n",
        "# Training loop\n",
        "for epoch in range(num_epochs):\n",
        "    print(f'Epoch {epoch+1}/{num_epochs}')\n",
        "    print('-' * 10)\n",
        "\n",
        "    # Each epoch has a training and validation phase\n",
        "    for phase in ['train', 'val']:\n",
        "        if phase == 'train':\n",
        "            model.train()  # Set model to training mode\n",
        "            dataloader = trainloader\n",
        "        else:\n",
        "            model.eval()   # Set model to evaluation mode\n",
        "            dataloader = testloader\n",
        "\n",
        "        running_loss = 0.0\n",
        "        running_corrects = 0\n",
        "\n",
        "        # Iterate over data\n",
        "        for inputs, labels in dataloader:\n",
        "            inputs = inputs.to(device)\n",
        "            labels = labels.to(device)\n",
        "\n",
        "            # Zero the parameter gradients\n",
        "            optimizer.zero_grad()\n",
        "\n",
        "            # Forward pass\n",
        "            with torch.set_grad_enabled(phase == 'train'):\n",
        "                outputs = model(inputs)\n",
        "                _, preds = torch.max(outputs, 1)\n",
        "                loss = criterion(outputs, labels)\n",
        "\n",
        "                # Backward + optimize only if in training phase\n",
        "                if phase == 'train':\n",
        "                    loss.backward()\n",
        "                    optimizer.step()\n",
        "\n",
        "            # Statistics\n",
        "            running_loss += loss.item() * inputs.size(0)\n",
        "            running_corrects += torch.sum(preds == labels.data)\n",
        "\n",
        "        if phase == 'train':\n",
        "            scheduler.step()\n",
        "\n",
        "        epoch_loss = running_loss / len(dataloader.dataset)\n",
        "        epoch_acc = running_corrects.double() / len(dataloader.dataset)\n",
        "\n",
        "        print(f'{phase} Loss: {epoch_loss:.4f} Acc: {epoch_acc:.4f}')\n",
        "\n",
        "        # Deep copy the model if it's the best one so far\n",
        "        if phase == 'val' and epoch_acc > best_acc:\n",
        "            best_acc = epoch_acc\n",
        "            best_model_wts = copy.deepcopy(model.state_dict())\n",
        "\n",
        "    print()\n",
        "\n",
        "print(f'Best val Acc: {best_acc:.4f}')\n",
        "\n"
      ],
      "metadata": {
        "colab": {
          "base_uri": "https://localhost:8080/"
        },
        "id": "_idDig7WwxXG",
        "outputId": "ca0ce9f2-7eb9-4112-fe34-5c7e6b54f03b"
      },
      "execution_count": 5,
      "outputs": [
        {
          "output_type": "stream",
          "name": "stdout",
          "text": [
            "Epoch 1/10\n",
            "----------\n",
            "train Loss: 2.3243 Acc: 0.4281\n",
            "val Loss: 1.6698 Acc: 0.5559\n",
            "\n",
            "Epoch 2/10\n",
            "----------\n",
            "train Loss: 1.7072 Acc: 0.5320\n",
            "val Loss: 1.5036 Acc: 0.5874\n",
            "\n",
            "Epoch 3/10\n",
            "----------\n",
            "train Loss: 1.5961 Acc: 0.5522\n",
            "val Loss: 1.4450 Acc: 0.5970\n",
            "\n",
            "Epoch 4/10\n",
            "----------\n",
            "train Loss: 1.5323 Acc: 0.5694\n",
            "val Loss: 1.4051 Acc: 0.6010\n",
            "\n",
            "Epoch 5/10\n",
            "----------\n",
            "train Loss: 1.4866 Acc: 0.5783\n",
            "val Loss: 1.3794 Acc: 0.6063\n",
            "\n",
            "Epoch 6/10\n",
            "----------\n",
            "train Loss: 1.4643 Acc: 0.5844\n",
            "val Loss: 1.3501 Acc: 0.6169\n",
            "\n",
            "Epoch 7/10\n",
            "----------\n",
            "train Loss: 1.4350 Acc: 0.5889\n",
            "val Loss: 1.3350 Acc: 0.6145\n",
            "\n",
            "Epoch 8/10\n",
            "----------\n",
            "train Loss: 1.3757 Acc: 0.6056\n",
            "val Loss: 1.3179 Acc: 0.6213\n",
            "\n",
            "Epoch 9/10\n",
            "----------\n",
            "train Loss: 1.3584 Acc: 0.6132\n",
            "val Loss: 1.3140 Acc: 0.6229\n",
            "\n",
            "Epoch 10/10\n",
            "----------\n",
            "train Loss: 1.3558 Acc: 0.6116\n",
            "val Loss: 1.3060 Acc: 0.6257\n",
            "\n",
            "Best val Acc: 0.6257\n"
          ]
        }
      ]
    },
    {
      "cell_type": "code",
      "source": [
        "# Load best model weights\n",
        "model.load_state_dict(best_model_wts)\n",
        "\n",
        "# Save the best model\n",
        "torch.save(model.state_dict(), 'best_model_vgg16.pth')\n",
        "\n",
        "# Test the model\n",
        "model.eval()   # Set model to evaluation mode\n",
        "\n",
        "# Tracking variables\n",
        "correct = 0\n",
        "total = 0\n",
        "\n",
        "# No gradient needed for testing\n",
        "with torch.no_grad():\n",
        "    for inputs, labels in testloader:\n",
        "        inputs = inputs.to(device)\n",
        "        labels = labels.to(device)\n",
        "\n",
        "        outputs = model(inputs)\n",
        "        _, predicted = torch.max(outputs.data, 1)\n",
        "\n",
        "        total += labels.size(0)\n",
        "        correct += (predicted == labels).sum().item()\n",
        "\n",
        "print(f'Accuracy of the network on the 10000 test images: {100 * correct / total:.2f}%')"
      ],
      "metadata": {
        "colab": {
          "base_uri": "https://localhost:8080/"
        },
        "id": "Ljb_rDmpw5Do",
        "outputId": "4cbbbd91-dcc7-4fa3-c4c8-7ca0f50bf6d2"
      },
      "execution_count": 6,
      "outputs": [
        {
          "output_type": "stream",
          "name": "stdout",
          "text": [
            "Accuracy of the network on the 10000 test images: 62.39%\n"
          ]
        }
      ]
    }
  ]
}